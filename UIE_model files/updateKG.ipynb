{
  "nbformat": 4,
  "nbformat_minor": 0,
  "metadata": {
    "colab": {
      "provenance": []
    },
    "kernelspec": {
      "name": "python3",
      "display_name": "Python 3"
    },
    "language_info": {
      "name": "python"
    }
  },
  "cells": [
    {
      "cell_type": "code",
      "execution_count": null,
      "metadata": {
        "colab": {
          "base_uri": "https://localhost:8080/"
        },
        "id": "ImBkdr5vjac8",
        "outputId": "1458f334-16b3-40c1-e937-0e9d60ea6f02"
      },
      "outputs": [
        {
          "output_type": "stream",
          "name": "stdout",
          "text": [
            "Collecting rapidfuzz\n",
            "  Downloading rapidfuzz-3.11.0-cp311-cp311-manylinux_2_17_x86_64.manylinux2014_x86_64.whl.metadata (11 kB)\n",
            "Downloading rapidfuzz-3.11.0-cp311-cp311-manylinux_2_17_x86_64.manylinux2014_x86_64.whl (3.1 MB)\n",
            "\u001b[2K   \u001b[90m━━━━━━━━━━━━━━━━━━━━━━━━━━━━━━━━━━━━━━━━\u001b[0m \u001b[32m3.1/3.1 MB\u001b[0m \u001b[31m17.1 MB/s\u001b[0m eta \u001b[36m0:00:00\u001b[0m\n",
            "\u001b[?25hInstalling collected packages: rapidfuzz\n",
            "Successfully installed rapidfuzz-3.11.0\n"
          ]
        }
      ],
      "source": [
        "pip install rapidfuzz"
      ]
    },
    {
      "cell_type": "code",
      "source": [
        "!python update_kg.py \\\n",
        "  --input_jsonl preds_record_3.jsonl \\\n",
        "  --kg_path gwas_kg.json"
      ],
      "metadata": {
        "colab": {
          "base_uri": "https://localhost:8080/"
        },
        "id": "wIB-CJQzkUv3",
        "outputId": "c7949c8d-1677-4c8c-f0e1-2f1b450bb1bf"
      },
      "execution_count": null,
      "outputs": [
        {
          "output_type": "stream",
          "name": "stdout",
          "text": [
            "[INFO] KG updated and saved to gwas_kg.json\n"
          ]
        }
      ]
    },
    {
      "cell_type": "code",
      "source": [
        "!python search_kg.py \\\n",
        "  --kg_path gwas_kg.json \\\n",
        "  --query \"plant structure leaf\"\\\n",
        "  --top_k 1"
      ],
      "metadata": {
        "colab": {
          "base_uri": "https://localhost:8080/"
        },
        "id": "9xFL_iVbmzCw",
        "outputId": "462a11d4-82b2-4e07-903d-c525fe840a44"
      },
      "execution_count": null,
      "outputs": [
        {
          "output_type": "stream",
          "name": "stdout",
          "text": [
            "Query: plant structure leaf\n",
            "\n",
            "Top 1 matching nodes:\n",
            "  1. (score=100.00) Label=Tissue / Plant Structure | Text=leaf\n",
            "\n",
            "Relevant edges involving these matched nodes:\n",
            "  leaf ASSOCIATED_WITH Molybdenum\n",
            "  untargeted metabolite profiling ASSOCIATED_WITH leaf\n",
            "  M217 LOCATED_IN leaf\n",
            "  ATPS1 ASSOCIATED_WITH leaf\n",
            "  Phloem transport LOCATED_IN leaf\n",
            "  leaf PART_OF plants\n",
            "  leaf USED_IN QTL analysis\n",
            "  These depositions LOCATED_IN leaf\n",
            "  lead (Pb) LOCATED_IN leaf\n",
            "\n",
            "--- Search Complete ---\n"
          ]
        }
      ]
    }
  ]
}